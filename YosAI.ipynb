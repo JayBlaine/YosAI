{
  "nbformat": 4,
  "nbformat_minor": 0,
  "metadata": {
    "colab": {
      "name": "YosAI (1).ipynb",
      "provenance": [],
      "collapsed_sections": [],
      "include_colab_link": true
    },
    "kernelspec": {
      "name": "python3",
      "display_name": "Python 3"
    },
    "language_info": {
      "name": "python"
    },
    "accelerator": "GPU"
  },
  "cells": [
    {
      "cell_type": "markdown",
      "metadata": {
        "id": "view-in-github",
        "colab_type": "text"
      },
      "source": [
        "<a href=\"https://colab.research.google.com/github/ZaneZaiontz/YosAI/blob/main/YosAI.ipynb\" target=\"_parent\"><img src=\"https://colab.research.google.com/assets/colab-badge.svg\" alt=\"Open In Colab\"/></a>"
      ]
    },
    {
      "cell_type": "markdown",
      "metadata": {
        "id": "DEYA9jFmRG6t"
      },
      "source": [
        "Imports"
      ]
    },
    {
      "cell_type": "code",
      "metadata": {
        "id": "oL18W5HvRGN1"
      },
      "source": [
        "%tensorflow_version 2.x\n",
        "import tensorflow as tf\n",
        "from keras.preprocessing import sequence\n",
        "import keras\n",
        "import numpy as np\n",
        "import os\n",
        "import random as rand\n",
        "import sys"
      ],
      "execution_count": null,
      "outputs": []
    },
    {
      "cell_type": "markdown",
      "metadata": {
        "id": "xhoAxUfXq4TY"
      },
      "source": [
        "Open dataset\n"
      ]
    },
    {
      "cell_type": "code",
      "metadata": {
        "id": "mMoxvg3NrBei",
        "colab": {
          "base_uri": "https://localhost:8080/"
        },
        "outputId": "d43215f6-7548-4aef-bf65-f50121bca568"
      },
      "source": [
        "# Read, then decode for py2 compat.\n",
        "file = open('./zhaoClean.txt', 'r')\n",
        "lines = file.readlines()\n",
        "file.close()\n",
        "file = open('./zhaoClean.txt', 'r')\n",
        "text = file.read().lower()\n",
        "# num chars in file\n",
        "print ('Length of text: {} characters'.format(len(text)))"
      ],
      "execution_count": null,
      "outputs": [
        {
          "output_type": "stream",
          "text": [
            "Length of text: 256636 characters\n"
          ],
          "name": "stdout"
        }
      ]
    },
    {
      "cell_type": "markdown",
      "metadata": {
        "id": "fmBIleLGq4ia"
      },
      "source": [
        "Encoding\n"
      ]
    },
    {
      "cell_type": "code",
      "metadata": {
        "colab": {
          "base_uri": "https://localhost:8080/"
        },
        "id": "TIYw88NhPTrt",
        "outputId": "a177748b-0365-4093-b431-20f4468b15d0"
      },
      "source": [
        "vocab = sorted(set(text))\n",
        "# UID's for each char\n",
        "char2idx = {u:i for i, u in enumerate(vocab)}\n",
        "idx2char = np.array(vocab)\n",
        "\n",
        "def text_to_int(text):\n",
        "  return np.array([char2idx[c] for c in text])\n",
        "\n",
        "text_as_int = text_to_int(text)"
      ],
      "execution_count": null,
      "outputs": [
        {
          "output_type": "stream",
          "text": [
            "Text: a skein of bi\n",
            "Encoded: [25  1 43 35 29 33 38  1 39 30  1 26 33]\n"
          ],
          "name": "stdout"
        }
      ]
    },
    {
      "cell_type": "markdown",
      "metadata": {
        "id": "2zFRb1y9q4v1"
      },
      "source": [
        "Step 3"
      ]
    },
    {
      "cell_type": "code",
      "metadata": {
        "id": "cToLhQWbrCJR"
      },
      "source": [
        "seq_length = 64  # training seq length, 64 ~ haiku length\n",
        "examples_per_epoch = len(text)//(seq_length+1)\n",
        "\n",
        "char_dataset = tf.data.Dataset.from_tensor_slices(text_as_int)\n",
        "sequences = char_dataset.batch(seq_length+1, drop_remainder=True)"
      ],
      "execution_count": null,
      "outputs": []
    },
    {
      "cell_type": "markdown",
      "metadata": {
        "id": "ani7b8QBq46H"
      },
      "source": [
        "Step 4"
      ]
    },
    {
      "cell_type": "code",
      "metadata": {
        "id": "VehZSG8A5sK1"
      },
      "source": [
        "def split_input_target(chunk):  # for the example: hello\n",
        "    input_text = chunk[:-1]  # hell\n",
        "    target_text = chunk[1:]  # ello\n",
        "    return input_text, target_text  # hell, ello\n",
        "\n",
        "dataset = sequences.map(split_input_target)  # we use map to apply the above function to every entry"
      ],
      "execution_count": null,
      "outputs": []
    },
    {
      "cell_type": "markdown",
      "metadata": {
        "id": "U5U2foZxNDwT"
      },
      "source": [
        "Build Model/Shuffle Data"
      ]
    },
    {
      "cell_type": "code",
      "metadata": {
        "id": "JTgZzCfBrCdt"
      },
      "source": [
        "BATCH_SIZE = 64\n",
        "VOCAB_SIZE = len(vocab)\n",
        "EMBEDDING_DIM = 256\n",
        "RNN_UNITS = 1024\n",
        "\n",
        "# Buffer size to shuffle the dataset\n",
        "BUFFER_SIZE = 10000\n",
        "data = dataset.shuffle(BUFFER_SIZE).batch(BATCH_SIZE, drop_remainder=True)"
      ],
      "execution_count": null,
      "outputs": []
    },
    {
      "cell_type": "code",
      "metadata": {
        "id": "DBJW_puxaqAX"
      },
      "source": [
        "\n",
        "def build_model(vocab_size, embedding_dim, rnn_units, batch_size):\n",
        "  model = tf.keras.Sequential([\n",
        "    tf.keras.layers.Embedding(vocab_size, embedding_dim, batch_input_shape=[batch_size, None]),\n",
        "    tf.keras.layers.LSTM(rnn_units, return_sequences=True, stateful=True, recurrent_initializer='glorot_uniform'),\n",
        "    tf.keras.layers.Dense(vocab_size)])\n",
        "  return model\n",
        "\n",
        "model = build_model(VOCAB_SIZE,EMBEDDING_DIM, RNN_UNITS, BATCH_SIZE)\n",
        "model.summary()"
      ],
      "execution_count": null,
      "outputs": []
    },
    {
      "cell_type": "markdown",
      "metadata": {
        "id": "iSJU9H7s7lEs"
      },
      "source": [
        "Compile/Loss Function\n"
      ]
    },
    {
      "cell_type": "code",
      "metadata": {
        "id": "MksqLEpy7ldn"
      },
      "source": [
        "def loss(labels, logits):\n",
        "  return tf.keras.losses.sparse_categorical_crossentropy(labels, logits, from_logits=True)\n",
        "model.compile(optimizer='adam', loss=loss)"
      ],
      "execution_count": null,
      "outputs": []
    },
    {
      "cell_type": "markdown",
      "metadata": {
        "id": "xtsk91CZ8Txx"
      },
      "source": [
        "Checkpoints/Fitting"
      ]
    },
    {
      "cell_type": "code",
      "metadata": {
        "id": "N6W0Awyz8UDk"
      },
      "source": [
        "checkpoint_dir = './trainCKPT'\n",
        "checkpoint_prefix = os.path.join(checkpoint_dir, \"CKPT-{epoch}\")\n",
        "\n",
        "checkpoint_callback=tf.keras.callbacks.ModelCheckpoint(filepath=checkpoint_prefix, save_weights_only=True)\n",
        "history = model.fit(data, epochs=100, callbacks=[checkpoint_callback])"
      ],
      "execution_count": null,
      "outputs": []
    },
    {
      "cell_type": "markdown",
      "metadata": {
        "id": "apXh5a-U8knS"
      },
      "source": [
        "Build"
      ]
    },
    {
      "cell_type": "code",
      "metadata": {
        "id": "7KiOlqgwa1rc"
      },
      "source": [
        "model = build_model(VOCAB_SIZE, EMBEDDING_DIM, RNN_UNITS, batch_size=1)\n",
        "model.load_weights(tf.train.latest_checkpoint(checkpoint_dir))\n",
        "model.build(tf.TensorShape([1, None]))"
      ],
      "execution_count": null,
      "outputs": []
    },
    {
      "cell_type": "markdown",
      "metadata": {
        "id": "G5BT2rdl8oNt"
      },
      "source": [
        "Output"
      ]
    },
    {
      "cell_type": "code",
      "metadata": {
        "id": "d2VXDtFK8sa9"
      },
      "source": [
        "def generate_text(model):\n",
        "  newL = 0\n",
        "  startInt = (rand.randint(0, 44000))/3\n",
        "  startLine = lines[int(startInt)]\n",
        "  startLine = startLine.lower()\n",
        "\n",
        "  input_eval = [char2idx[s] for s in startLine]\n",
        "  input_eval = tf.expand_dims(input_eval, 0)\n",
        "  text_generated = []\n",
        "\n",
        "  model.reset_states()\n",
        "  while newL < 3:\n",
        "      predictions = model(input_eval)\n",
        "\n",
        "      predictions = tf.squeeze(predictions, 0)\n",
        "      predictions = predictions\n",
        "      predicted_id = tf.random.categorical(predictions, num_samples=1)[-1,0].numpy()\n",
        "      \n",
        "      input_eval = tf.expand_dims([predicted_id], 0)\n",
        "\n",
        "      if (idx2char[predicted_id] == '\\n'):\n",
        "        newL += 1\n",
        "      if (newL >= 3):\n",
        "        text_generated.append(idx2char[predicted_id])\n",
        "        break\n",
        "\n",
        "      # print(idx2char[predicted_id])\n",
        "\n",
        "      text_generated.append(idx2char[predicted_id])\n",
        "\n",
        "  return (''.join(text_generated))\n",
        "\n",
        "print(generate_text(model))\n",
        "\n"
      ],
      "execution_count": null,
      "outputs": []
    }
  ]
}